{
 "cells": [
  {
   "cell_type": "markdown",
   "metadata": {},
   "source": [
    "# Capstone Project: Create a Customer Segmentation Report for Arvato Financial Services\n",
    "\n",
    "In this project, you will analyze demographics data for customers of a mail-order sales company in Germany, comparing it against demographics information for the general population. You'll use unsupervised learning techniques to perform customer segmentation, identifying the parts of the population that best describe the core customer base of the company. Then, you'll apply what you've learned on a third dataset with demographics information for targets of a marketing campaign for the company, and use a model to predict which individuals are most likely to convert into becoming customers for the company. The data that you will use has been provided by our partners at Bertelsmann Arvato Analytics, and represents a real-life data science task.\n",
    "\n",
    "If you completed the first term of this program, you will be familiar with the first part of this project, from the unsupervised learning project. The versions of those two datasets used in this project will include many more features and has not been pre-cleaned. You are also free to choose whatever approach you'd like to analyzing the data rather than follow pre-determined steps. In your work on this project, make sure that you carefully document your steps and decisions, since your main deliverable for this project will be a blog post reporting your findings."
   ]
  },
  {
   "cell_type": "code",
   "execution_count": 4,
   "metadata": {},
   "outputs": [
    {
     "data": {
      "text/plain": [
       "'0.11.2'"
      ]
     },
     "execution_count": 4,
     "metadata": {},
     "output_type": "execute_result"
    }
   ],
   "source": [
    "import seaborn as sns\n",
    "sns.__version__"
   ]
  },
  {
   "cell_type": "code",
   "execution_count": 5,
   "metadata": {},
   "outputs": [
    {
     "name": "stdout",
     "output_type": "stream",
     "text": [
      "3.9.9\n"
     ]
    }
   ],
   "source": [
    "from platform import python_version\n",
    "\n",
    "print(python_version())"
   ]
  },
  {
   "cell_type": "code",
   "execution_count": 6,
   "metadata": {},
   "outputs": [
    {
     "data": {
      "text/plain": [
       "'1.0.2'"
      ]
     },
     "execution_count": 6,
     "metadata": {},
     "output_type": "execute_result"
    }
   ],
   "source": [
    "import sklearn\n",
    "sklearn.__version__"
   ]
  },
  {
   "cell_type": "code",
   "execution_count": 7,
   "metadata": {},
   "outputs": [],
   "source": [
    "# import libraries here; add more as necessary\n",
    "import numpy as np\n",
    "import pandas as pd\n",
    "import matplotlib.pyplot as plt\n",
    "import seaborn as sns\n",
    "\n",
    "from sklearn.preprocessing import StandardScaler, LabelEncoder\n",
    "from sklearn.linear_model import LogisticRegression\n",
    "from sklearn.decomposition import PCA\n",
    "from sklearn.impute import SimpleImputer\n",
    "from sklearn.pipeline import Pipeline\n",
    "from sklearn.cluster import KMeans\n",
    "from sklearn.model_selection import train_test_split, learning_curve\n",
    "from sklearn.metrics import classification_report, roc_auc_score, confusion_matrix\n",
    "\n",
    "from sklearn.impute import SimpleImputer\n",
    "from sklearn.metrics import classification_report, confusion_matrix\n",
    "from sklearn.ensemble import RandomForestClassifier\n",
    "from sklearn.linear_model import  LogisticRegression\n",
    "from sklearn.model_selection import cross_val_score, GridSearchCV, StratifiedKFold\n",
    "\n",
    "from sklearn.metrics import roc_curve, auc\n",
    "from lightgbm import LGBMClassifier\n",
    "\n",
    "%matplotlib inline\n",
    "plt.style.use('fivethirtyeight')\n",
    "\n",
    "# magic word for producing visualizations in notebook\n",
    "%matplotlib inline\n"
   ]
  },
  {
   "cell_type": "code",
   "execution_count": 86,
   "metadata": {},
   "outputs": [],
   "source": [
    "from xgboost import XGBClassifier\n",
    "from bayes_opt import BayesianOptimization\n",
    "import skopt\n",
    "from skopt import BayesSearchCV"
   ]
  },
  {
   "cell_type": "markdown",
   "metadata": {},
   "source": [
    "## Part 0: Get to Know the Data\n",
    "\n",
    "There are four data files associated with this project:\n",
    "\n",
    "- `Udacity_AZDIAS_052018.csv`: Demographics data for the general population of Germany; 891 211 persons (rows) x 366 features (columns).\n",
    "- `Udacity_CUSTOMERS_052018.csv`: Demographics data for customers of a mail-order company; 191 652 persons (rows) x 369 features (columns).\n",
    "- `Udacity_MAILOUT_052018_TRAIN.csv`: Demographics data for individuals who were targets of a marketing campaign; 42 982 persons (rows) x 367 (columns).\n",
    "- `Udacity_MAILOUT_052018_TEST.csv`: Demographics data for individuals who were targets of a marketing campaign; 42 833 persons (rows) x 366 (columns).\n",
    "\n",
    "Each row of the demographics files represents a single person, but also includes information outside of individuals, including information about their household, building, and neighborhood. Use the information from the first two files to figure out how customers (\"CUSTOMERS\") are similar to or differ from the general population at large (\"AZDIAS\"), then use your analysis to make predictions on the other two files (\"MAILOUT\"), predicting which recipients are most likely to become a customer for the mail-order company.\n",
    "\n",
    "The \"CUSTOMERS\" file contains three extra columns ('CUSTOMER_GROUP', 'ONLINE_PURCHASE', and 'PRODUCT_GROUP'), which provide broad information about the customers depicted in the file. The original \"MAILOUT\" file included one additional column, \"RESPONSE\", which indicated whether or not each recipient became a customer of the company. For the \"TRAIN\" subset, this column has been retained, but in the \"TEST\" subset it has been removed; it is against that withheld column that your final predictions will be assessed in the Kaggle competition.\n",
    "\n",
    "Otherwise, all of the remaining columns are the same between the three data files. For more information about the columns depicted in the files, you can refer to two Excel spreadsheets provided in the workspace. [One of them](./DIAS Information Levels - Attributes 2017.xlsx) is a top-level list of attributes and descriptions, organized by informational category. [The other](./DIAS Attributes - Values 2017.xlsx) is a detailed mapping of data values for each feature in alphabetical order.\n",
    "\n",
    "In the below cell, we've provided some initial code to load in the first two datasets. Note for all of the `.csv` data files in this project that they're semicolon (`;`) delimited, so an additional argument in the [`read_csv()`](https://pandas.pydata.org/pandas-docs/stable/generated/pandas.read_csv.html) call has been included to read in the data properly. Also, considering the size of the datasets, it may take some time for them to load completely.\n",
    "\n",
    "You'll notice when the data is loaded in that a warning message will immediately pop up. Before you really start digging into the modeling and analysis, you're going to need to perform some cleaning. Take some time to browse the structure of the data and look over the informational spreadsheets to understand the data values. Make some decisions on which features to keep, which features to drop, and if any revisions need to be made on data formats. It'll be a good idea to create a function with pre-processing steps, since you'll need to clean all of the datasets before you work with them."
   ]
  },
  {
   "cell_type": "code",
   "execution_count": 9,
   "metadata": {},
   "outputs": [
    {
     "name": "stderr",
     "output_type": "stream",
     "text": [
      "C:\\Users\\Gill\\AppData\\Local\\Packages\\PythonSoftwareFoundation.Python.3.9_qbz5n2kfra8p0\\LocalCache\\local-packages\\Python39\\site-packages\\IPython\\core\\interactiveshell.py:3457: DtypeWarning: Columns (18,19) have mixed types.Specify dtype option on import or set low_memory=False.\n",
      "  exec(code_obj, self.user_global_ns, self.user_ns)\n"
     ]
    }
   ],
   "source": [
    "# load in the data\n",
    "azdias = pd.read_csv('arvato_data/Udacity_AZDIAS_052018.csv', sep=';')\n",
    "customers = pd.read_csv('arvato_data/Udacity_CUSTOMERS_052018.csv', sep=';')"
   ]
  },
  {
   "cell_type": "code",
   "execution_count": 19,
   "metadata": {},
   "outputs": [],
   "source": [
    "#load meta data file - attributes as a dataframe\n",
    "attributes = pd.read_excel('DIAS Attributes - Values 2017.xlsx')"
   ]
  },
  {
   "cell_type": "code",
   "execution_count": 11,
   "metadata": {},
   "outputs": [
    {
     "name": "stdout",
     "output_type": "stream",
     "text": [
      "azdias: (891221, 366)\n",
      "customers: (191652, 369)\n"
     ]
    }
   ],
   "source": [
    "#initial shape of the dataframes\n",
    "print('azdias:',azdias.shape)\n",
    "print('customers:',customers.shape)"
   ]
  },
  {
   "cell_type": "code",
   "execution_count": 12,
   "metadata": {},
   "outputs": [],
   "source": [
    "# Remove extra features in customers dataframe\n",
    "customers.drop(['PRODUCT_GROUP', 'CUSTOMER_GROUP', 'ONLINE_PURCHASE'], axis = 1, inplace = True)"
   ]
  },
  {
   "cell_type": "markdown",
   "metadata": {},
   "source": [
    "**Dropping duplicate data from the dataframes: azdias and customers**"
   ]
  },
  {
   "cell_type": "code",
   "execution_count": 13,
   "metadata": {},
   "outputs": [],
   "source": [
    "# remove duplicate records in dataframes - azdias and customers\n",
    "azdias.drop_duplicates(inplace=True)\n",
    "customers.drop_duplicates(inplace=True)"
   ]
  },
  {
   "cell_type": "code",
   "execution_count": 14,
   "metadata": {},
   "outputs": [
    {
     "name": "stdout",
     "output_type": "stream",
     "text": [
      "azdias: (891221, 366)\n",
      "customers: (191652, 366)\n"
     ]
    }
   ],
   "source": [
    "#shape of the dataframes\n",
    "print('azdias:',azdias.shape)\n",
    "print('customers:',customers.shape)"
   ]
  },
  {
   "cell_type": "code",
   "execution_count": 20,
   "metadata": {},
   "outputs": [
    {
     "data": {
      "text/html": [
       "<div>\n",
       "<style scoped>\n",
       "    .dataframe tbody tr th:only-of-type {\n",
       "        vertical-align: middle;\n",
       "    }\n",
       "\n",
       "    .dataframe tbody tr th {\n",
       "        vertical-align: top;\n",
       "    }\n",
       "\n",
       "    .dataframe thead th {\n",
       "        text-align: right;\n",
       "    }\n",
       "</style>\n",
       "<table border=\"1\" class=\"dataframe\">\n",
       "  <thead>\n",
       "    <tr style=\"text-align: right;\">\n",
       "      <th></th>\n",
       "      <th>Unnamed: 0</th>\n",
       "      <th>Attribute</th>\n",
       "      <th>Description</th>\n",
       "      <th>Value</th>\n",
       "      <th>Meaning</th>\n",
       "    </tr>\n",
       "  </thead>\n",
       "  <tbody>\n",
       "    <tr>\n",
       "      <th>0</th>\n",
       "      <td>NaN</td>\n",
       "      <td>AGER_TYP</td>\n",
       "      <td>best-ager typology</td>\n",
       "      <td>-1</td>\n",
       "      <td>unknown</td>\n",
       "    </tr>\n",
       "    <tr>\n",
       "      <th>1</th>\n",
       "      <td>NaN</td>\n",
       "      <td>NaN</td>\n",
       "      <td>NaN</td>\n",
       "      <td>0</td>\n",
       "      <td>no classification possible</td>\n",
       "    </tr>\n",
       "    <tr>\n",
       "      <th>2</th>\n",
       "      <td>NaN</td>\n",
       "      <td>NaN</td>\n",
       "      <td>NaN</td>\n",
       "      <td>1</td>\n",
       "      <td>passive elderly</td>\n",
       "    </tr>\n",
       "    <tr>\n",
       "      <th>3</th>\n",
       "      <td>NaN</td>\n",
       "      <td>NaN</td>\n",
       "      <td>NaN</td>\n",
       "      <td>2</td>\n",
       "      <td>cultural elderly</td>\n",
       "    </tr>\n",
       "    <tr>\n",
       "      <th>4</th>\n",
       "      <td>NaN</td>\n",
       "      <td>NaN</td>\n",
       "      <td>NaN</td>\n",
       "      <td>3</td>\n",
       "      <td>experience-driven elderly</td>\n",
       "    </tr>\n",
       "  </tbody>\n",
       "</table>\n",
       "</div>"
      ],
      "text/plain": [
       "   Unnamed: 0 Attribute         Description Value                     Meaning\n",
       "0         NaN  AGER_TYP  best-ager typology    -1                     unknown\n",
       "1         NaN       NaN                 NaN     0  no classification possible\n",
       "2         NaN       NaN                 NaN     1             passive elderly\n",
       "3         NaN       NaN                 NaN     2            cultural elderly\n",
       "4         NaN       NaN                 NaN     3   experience-driven elderly"
      ]
     },
     "execution_count": 20,
     "metadata": {},
     "output_type": "execute_result"
    }
   ],
   "source": [
    "attributes.head()"
   ]
  },
  {
   "cell_type": "code",
   "execution_count": 21,
   "metadata": {},
   "outputs": [],
   "source": [
    "#Remove unwanted column from dataset values\n",
    "attributes.drop(['Unnamed: 0'],axis=1, inplace=True)"
   ]
  },
  {
   "cell_type": "code",
   "execution_count": 22,
   "metadata": {},
   "outputs": [],
   "source": [
    "#fill NA values in values dataset\n",
    "attributes['Attribute'].isna().sum()\n",
    "attributes['Attribute'].fillna(method='ffill',inplace=True)"
   ]
  },
  {
   "cell_type": "code",
   "execution_count": 23,
   "metadata": {},
   "outputs": [
    {
     "data": {
      "text/plain": [
       "314"
      ]
     },
     "execution_count": 23,
     "metadata": {},
     "output_type": "execute_result"
    }
   ],
   "source": [
    "#Unique Attribute values\n",
    "attributes['Attribute'].nunique()"
   ]
  },
  {
   "cell_type": "code",
   "execution_count": 24,
   "metadata": {},
   "outputs": [
    {
     "name": "stdout",
     "output_type": "stream",
     "text": [
      "Number of columns with description: 272\n"
     ]
    }
   ],
   "source": [
    "#common features in attributes and azdias\n",
    "columns = np.intersect1d(list(azdias.columns),list(set(attributes['Attribute'])))\n",
    "print(\"Number of columns with description:\",len(columns))"
   ]
  },
  {
   "cell_type": "markdown",
   "metadata": {},
   "source": [
    "**Handling Missing Values in Dataframes**"
   ]
  },
  {
   "cell_type": "code",
   "execution_count": 25,
   "metadata": {
    "scrolled": true
   },
   "outputs": [
    {
     "name": "stderr",
     "output_type": "stream",
     "text": [
      "C:\\Users\\Gill\\AppData\\Local\\Packages\\PythonSoftwareFoundation.Python.3.9_qbz5n2kfra8p0\\LocalCache\\local-packages\\Python39\\site-packages\\seaborn\\distributions.py:2619: FutureWarning: `distplot` is a deprecated function and will be removed in a future version. Please adapt your code to use either `displot` (a figure-level function with similar flexibility) or `histplot` (an axes-level function for histograms).\n",
      "  warnings.warn(msg, FutureWarning)\n"
     ]
    },
    {
     "data": {
      "image/png": "[encoded data removed]",
      "text/plain": [
       "<Figure size 432x288 with 1 Axes>"
      ]
     },
     "metadata": {
      "needs_background": "light"
     },
     "output_type": "display_data"
    }
   ],
   "source": [
    "# number of data missing into separate dataframe\n",
    "azdias_null = azdias.isnull().sum()/len(azdias)*100\n",
    "# check missing values' distribution\n",
    "sns.distplot(azdias_null, bins=10, kde=False);"
   ]
  },
  {
   "cell_type": "code",
   "execution_count": null,
   "metadata": {},
   "outputs": [],
   "source": []
  },
  {
   "cell_type": "code",
   "execution_count": 26,
   "metadata": {},
   "outputs": [
    {
     "data": {
      "image/png": "[encoded data removed]",
      "text/plain": [
       "<Figure size 432x288 with 1 Axes>"
      ]
     },
     "metadata": {
      "needs_background": "light"
     },
     "output_type": "display_data"
    }
   ],
   "source": [
    "# number of data missing into separate dataframe\n",
    "customers_null = customers.isnull().sum()/len(customers)*100\n",
    "# check missing values' distribution\n",
    "sns.distplot(customers_null, bins=10, kde=False);"
   ]
  },
  {
   "cell_type": "markdown",
   "metadata": {},
   "source": [
    "As observed a few features in the dataset have special characters, which have no meaning. Let's take a look."
   ]
  },
  {
   "cell_type": "code",
   "execution_count": 27,
   "metadata": {},
   "outputs": [
    {
     "name": "stdout",
     "output_type": "stream",
     "text": [
      "[nan '8A' '4C' '2A' '6B' '8C' '4A' '2D' '1A' '1E' '9D' '5C' '8B' '7A' '5D'\n",
      " '9E' '9B' '1B' '3D' '4E' '4B' '3C' '5A' '7B' '9A' '6D' '6E' '2C' '7C'\n",
      " '9C' '7D' '5E' '1D' '8D' '6C' '6A' '5B' '4D' '3A' '2B' '7E' '3B' '6F'\n",
      " '5F' '1C' 'XX']\n",
      "[nan 8.0 4.0 2.0 6.0 1.0 9.0 5.0 7.0 3.0 '4' '3' '7' '2' '8' '9' '6' '5'\n",
      " '1' 'X']\n",
      "[nan 51.0 24.0 12.0 43.0 54.0 22.0 14.0 13.0 15.0 33.0 41.0 34.0 55.0 25.0\n",
      " 23.0 31.0 52.0 35.0 45.0 44.0 32.0 '22' '24' '41' '12' '54' '51' '44'\n",
      " '35' '23' '25' '14' '34' '52' '55' '31' '32' '15' '13' '43' '33' '45'\n",
      " 'XX']\n"
     ]
    }
   ],
   "source": [
    "print(azdias['CAMEO_DEU_2015'].unique())\n",
    "print(azdias['CAMEO_DEUG_2015'].unique())\n",
    "print(azdias['CAMEO_INTL_2015'].unique())"
   ]
  },
  {
   "cell_type": "markdown",
   "metadata": {},
   "source": [
    "Updating unknown values in dataframes with -1"
   ]
  },
  {
   "cell_type": "code",
   "execution_count": 28,
   "metadata": {},
   "outputs": [],
   "source": [
    "def fill_unknowns(df,attributes):\n",
    "    '''\n",
    "    finds and fills unknowns values in the Dataframe with -1\n",
    "    \n",
    "    Inputs:\n",
    "    df (DataFrame): Dataframe for modifyication of data\n",
    "    attributes (DataFrame): Dataframe of attribute descriptions\n",
    "    \n",
    "    Returns:\n",
    "    df (DataFrame): Updated DataFrame with value -1 for any unknown value\n",
    "    \n",
    "    '''\n",
    "    \n",
    "    unknown_vals = attributes['Meaning'].where(attributes['Meaning'].str.contains('unknown')).value_counts().index\n",
    "    \n",
    "    #I will now create a list of all the unknown values for each attribute and replace them on my azdias and customers\n",
    "    missing_unknowns = attributes[attributes['Meaning'].isin(unknown_vals)]\n",
    "\n",
    "    for row in missing_unknowns.iterrows():\n",
    "        missing_values = row[1]['Value']\n",
    "        attribute = row[1]['Attribute']\n",
    "        \n",
    "        #dealing with columns that only exist in df\n",
    "        if attribute not in df.columns:\n",
    "            continue\n",
    "        \n",
    "        #dealing with strings or ints\n",
    "        if isinstance(missing_values,int): \n",
    "            df[attribute].replace(missing_values, -1, inplace=True)\n",
    "        elif isinstance(missing_values,str):\n",
    "            eval(\"df[attribute].replace([\"+missing_values+\"], -1, inplace=True)\")\n",
    "            df[attribute].replace(missing_values, -1, inplace=True)\n",
    "            \n",
    "    return df"
   ]
  },
  {
   "cell_type": "code",
   "execution_count": 29,
   "metadata": {},
   "outputs": [],
   "source": [
    "#use the attributes file to map the unknown values to -1 \n",
    "azdias = fill_unknowns(azdias, attributes)\n",
    "customers = fill_unknowns(customers, attributes)"
   ]
  },
  {
   "cell_type": "code",
   "execution_count": 30,
   "metadata": {
    "scrolled": false
   },
   "outputs": [
    {
     "data": {
      "text/html": [
       "<div>\n",
       "<style scoped>\n",
       "    .dataframe tbody tr th:only-of-type {\n",
       "        vertical-align: middle;\n",
       "    }\n",
       "\n",
       "    .dataframe tbody tr th {\n",
       "        vertical-align: top;\n",
       "    }\n",
       "\n",
       "    .dataframe thead th {\n",
       "        text-align: right;\n",
       "    }\n",
       "</style>\n",
       "<table border=\"1\" class=\"dataframe\">\n",
       "  <thead>\n",
       "    <tr style=\"text-align: right;\">\n",
       "      <th></th>\n",
       "      <th>ALTER_KIND1</th>\n",
       "      <th>ALTER_KIND2</th>\n",
       "      <th>ALTER_KIND3</th>\n",
       "      <th>ALTER_KIND4</th>\n",
       "      <th>ALTERSKATEGORIE_FEIN</th>\n",
       "      <th>D19_BANKEN_ONLINE_QUOTE_12</th>\n",
       "      <th>D19_GESAMT_ONLINE_QUOTE_12</th>\n",
       "      <th>D19_KONSUMTYP</th>\n",
       "      <th>D19_LETZTER_KAUF_BRANCHE</th>\n",
       "      <th>D19_LOTTO</th>\n",
       "      <th>D19_SOZIALES</th>\n",
       "      <th>D19_TELKO_ONLINE_QUOTE_12</th>\n",
       "      <th>D19_VERSAND_ONLINE_QUOTE_12</th>\n",
       "      <th>D19_VERSI_ONLINE_QUOTE_12</th>\n",
       "      <th>EXTSEL992</th>\n",
       "      <th>KK_KUNDENTYP</th>\n",
       "    </tr>\n",
       "  </thead>\n",
       "  <tbody>\n",
       "    <tr>\n",
       "      <th>0</th>\n",
       "      <td>NaN</td>\n",
       "      <td>NaN</td>\n",
       "      <td>NaN</td>\n",
       "      <td>NaN</td>\n",
       "      <td>NaN</td>\n",
       "      <td>NaN</td>\n",
       "      <td>NaN</td>\n",
       "      <td>NaN</td>\n",
       "      <td>NaN</td>\n",
       "      <td>NaN</td>\n",
       "      <td>NaN</td>\n",
       "      <td>NaN</td>\n",
       "      <td>NaN</td>\n",
       "      <td>NaN</td>\n",
       "      <td>NaN</td>\n",
       "      <td>NaN</td>\n",
       "    </tr>\n",
       "    <tr>\n",
       "      <th>1</th>\n",
       "      <td>NaN</td>\n",
       "      <td>NaN</td>\n",
       "      <td>NaN</td>\n",
       "      <td>NaN</td>\n",
       "      <td>21.0</td>\n",
       "      <td>NaN</td>\n",
       "      <td>NaN</td>\n",
       "      <td>NaN</td>\n",
       "      <td>NaN</td>\n",
       "      <td>NaN</td>\n",
       "      <td>NaN</td>\n",
       "      <td>NaN</td>\n",
       "      <td>NaN</td>\n",
       "      <td>NaN</td>\n",
       "      <td>NaN</td>\n",
       "      <td>NaN</td>\n",
       "    </tr>\n",
       "    <tr>\n",
       "      <th>2</th>\n",
       "      <td>NaN</td>\n",
       "      <td>NaN</td>\n",
       "      <td>NaN</td>\n",
       "      <td>NaN</td>\n",
       "      <td>17.0</td>\n",
       "      <td>0.0</td>\n",
       "      <td>0.0</td>\n",
       "      <td>9.0</td>\n",
       "      <td>D19_UNBEKANNT</td>\n",
       "      <td>0.0</td>\n",
       "      <td>0.0</td>\n",
       "      <td>0.0</td>\n",
       "      <td>0.0</td>\n",
       "      <td>0.0</td>\n",
       "      <td>14.0</td>\n",
       "      <td>NaN</td>\n",
       "    </tr>\n",
       "    <tr>\n",
       "      <th>3</th>\n",
       "      <td>NaN</td>\n",
       "      <td>NaN</td>\n",
       "      <td>NaN</td>\n",
       "      <td>NaN</td>\n",
       "      <td>13.0</td>\n",
       "      <td>0.0</td>\n",
       "      <td>0.0</td>\n",
       "      <td>9.0</td>\n",
       "      <td>D19_UNBEKANNT</td>\n",
       "      <td>0.0</td>\n",
       "      <td>0.0</td>\n",
       "      <td>0.0</td>\n",
       "      <td>0.0</td>\n",
       "      <td>0.0</td>\n",
       "      <td>31.0</td>\n",
       "      <td>NaN</td>\n",
       "    </tr>\n",
       "    <tr>\n",
       "      <th>4</th>\n",
       "      <td>NaN</td>\n",
       "      <td>NaN</td>\n",
       "      <td>NaN</td>\n",
       "      <td>NaN</td>\n",
       "      <td>14.0</td>\n",
       "      <td>10.0</td>\n",
       "      <td>10.0</td>\n",
       "      <td>1.0</td>\n",
       "      <td>D19_SCHUHE</td>\n",
       "      <td>0.0</td>\n",
       "      <td>0.0</td>\n",
       "      <td>0.0</td>\n",
       "      <td>10.0</td>\n",
       "      <td>0.0</td>\n",
       "      <td>NaN</td>\n",
       "      <td>1.0</td>\n",
       "    </tr>\n",
       "  </tbody>\n",
       "</table>\n",
       "</div>"
      ],
      "text/plain": [
       "   ALTER_KIND1  ALTER_KIND2  ALTER_KIND3  ALTER_KIND4  ALTERSKATEGORIE_FEIN  \\\n",
       "0          NaN          NaN          NaN          NaN                   NaN   \n",
       "1          NaN          NaN          NaN          NaN                  21.0   \n",
       "2          NaN          NaN          NaN          NaN                  17.0   \n",
       "3          NaN          NaN          NaN          NaN                  13.0   \n",
       "4          NaN          NaN          NaN          NaN                  14.0   \n",
       "\n",
       "   D19_BANKEN_ONLINE_QUOTE_12  D19_GESAMT_ONLINE_QUOTE_12  D19_KONSUMTYP  \\\n",
       "0                         NaN                         NaN            NaN   \n",
       "1                         NaN                         NaN            NaN   \n",
       "2                         0.0                         0.0            9.0   \n",
       "3                         0.0                         0.0            9.0   \n",
       "4                        10.0                        10.0            1.0   \n",
       "\n",
       "  D19_LETZTER_KAUF_BRANCHE  D19_LOTTO  D19_SOZIALES  \\\n",
       "0                      NaN        NaN           NaN   \n",
       "1                      NaN        NaN           NaN   \n",
       "2            D19_UNBEKANNT        0.0           0.0   \n",
       "3            D19_UNBEKANNT        0.0           0.0   \n",
       "4               D19_SCHUHE        0.0           0.0   \n",
       "\n",
       "   D19_TELKO_ONLINE_QUOTE_12  D19_VERSAND_ONLINE_QUOTE_12  \\\n",
       "0                        NaN                          NaN   \n",
       "1                        NaN                          NaN   \n",
       "2                        0.0                          0.0   \n",
       "3                        0.0                          0.0   \n",
       "4                        0.0                         10.0   \n",
       "\n",
       "   D19_VERSI_ONLINE_QUOTE_12  EXTSEL992  KK_KUNDENTYP  \n",
       "0                        NaN        NaN           NaN  \n",
       "1                        NaN        NaN           NaN  \n",
       "2                        0.0       14.0           NaN  \n",
       "3                        0.0       31.0           NaN  \n",
       "4                        0.0        NaN           1.0  "
      ]
     },
     "execution_count": 30,
     "metadata": {},
     "output_type": "execute_result"
    }
   ],
   "source": [
    "#display features with more than 20% missing values\n",
    "missing_values = azdias.isnull().sum()/len(azdias)\n",
    "azdias[missing_values[missing_values > 0.20].index].head()"
   ]
  },
  {
   "cell_type": "code",
   "execution_count": 36,
   "metadata": {},
   "outputs": [
    {
     "data": {
      "text/plain": [
       "LNR                     0.000000\n",
       "AGER_TYP                0.000000\n",
       "AKT_DAT_KL              0.082470\n",
       "ALTER_HH                0.082470\n",
       "ALTER_KIND1             0.909048\n",
       "                          ...   \n",
       "WOHNDAUER_2008          0.082470\n",
       "WOHNLAGE                0.104517\n",
       "ZABEOTYP                0.000000\n",
       "ANREDE_KZ               0.000000\n",
       "ALTERSKATEGORIE_GROB    0.000000\n",
       "Length: 366, dtype: float64"
      ]
     },
     "execution_count": 36,
     "metadata": {},
     "output_type": "execute_result"
    }
   ],
   "source": [
    "missing_values"
   ]
  },
  {
   "cell_type": "code",
   "execution_count": 37,
   "metadata": {},
   "outputs": [
    {
     "data": {
      "text/html": [
       "<div>\n",
       "<style scoped>\n",
       "    .dataframe tbody tr th:only-of-type {\n",
       "        vertical-align: middle;\n",
       "    }\n",
       "\n",
       "    .dataframe tbody tr th {\n",
       "        vertical-align: top;\n",
       "    }\n",
       "\n",
       "    .dataframe thead th {\n",
       "        text-align: right;\n",
       "    }\n",
       "</style>\n",
       "<table border=\"1\" class=\"dataframe\">\n",
       "  <thead>\n",
       "    <tr style=\"text-align: right;\">\n",
       "      <th></th>\n",
       "      <th>Attribute</th>\n",
       "      <th>Description</th>\n",
       "      <th>Value</th>\n",
       "      <th>Meaning</th>\n",
       "    </tr>\n",
       "  </thead>\n",
       "  <tbody>\n",
       "    <tr>\n",
       "      <th>0</th>\n",
       "      <td>AGER_TYP</td>\n",
       "      <td>best-ager typology</td>\n",
       "      <td>-1</td>\n",
       "      <td>unknown</td>\n",
       "    </tr>\n",
       "    <tr>\n",
       "      <th>1</th>\n",
       "      <td>AGER_TYP</td>\n",
       "      <td>NaN</td>\n",
       "      <td>0</td>\n",
       "      <td>no classification possible</td>\n",
       "    </tr>\n",
       "    <tr>\n",
       "      <th>2</th>\n",
       "      <td>AGER_TYP</td>\n",
       "      <td>NaN</td>\n",
       "      <td>1</td>\n",
       "      <td>passive elderly</td>\n",
       "    </tr>\n",
       "    <tr>\n",
       "      <th>3</th>\n",
       "      <td>AGER_TYP</td>\n",
       "      <td>NaN</td>\n",
       "      <td>2</td>\n",
       "      <td>cultural elderly</td>\n",
       "    </tr>\n",
       "    <tr>\n",
       "      <th>4</th>\n",
       "      <td>AGER_TYP</td>\n",
       "      <td>NaN</td>\n",
       "      <td>3</td>\n",
       "      <td>experience-driven elderly</td>\n",
       "    </tr>\n",
       "    <tr>\n",
       "      <th>...</th>\n",
       "      <td>...</td>\n",
       "      <td>...</td>\n",
       "      <td>...</td>\n",
       "      <td>...</td>\n",
       "    </tr>\n",
       "    <tr>\n",
       "      <th>2253</th>\n",
       "      <td>ZABEOTYP</td>\n",
       "      <td>NaN</td>\n",
       "      <td>2</td>\n",
       "      <td>smart</td>\n",
       "    </tr>\n",
       "    <tr>\n",
       "      <th>2254</th>\n",
       "      <td>ZABEOTYP</td>\n",
       "      <td>NaN</td>\n",
       "      <td>3</td>\n",
       "      <td>fair supplied</td>\n",
       "    </tr>\n",
       "    <tr>\n",
       "      <th>2255</th>\n",
       "      <td>ZABEOTYP</td>\n",
       "      <td>NaN</td>\n",
       "      <td>4</td>\n",
       "      <td>price driven</td>\n",
       "    </tr>\n",
       "    <tr>\n",
       "      <th>2256</th>\n",
       "      <td>ZABEOTYP</td>\n",
       "      <td>NaN</td>\n",
       "      <td>5</td>\n",
       "      <td>seeking orientation</td>\n",
       "    </tr>\n",
       "    <tr>\n",
       "      <th>2257</th>\n",
       "      <td>ZABEOTYP</td>\n",
       "      <td>NaN</td>\n",
       "      <td>6</td>\n",
       "      <td>indifferent</td>\n",
       "    </tr>\n",
       "  </tbody>\n",
       "</table>\n",
       "<p>1916 rows × 4 columns</p>\n",
       "</div>"
      ],
      "text/plain": [
       "     Attribute         Description Value                     Meaning\n",
       "0     AGER_TYP  best-ager typology    -1                     unknown\n",
       "1     AGER_TYP                 NaN     0  no classification possible\n",
       "2     AGER_TYP                 NaN     1             passive elderly\n",
       "3     AGER_TYP                 NaN     2            cultural elderly\n",
       "4     AGER_TYP                 NaN     3   experience-driven elderly\n",
       "...        ...                 ...   ...                         ...\n",
       "2253  ZABEOTYP                 NaN     2                       smart\n",
       "2254  ZABEOTYP                 NaN     3               fair supplied\n",
       "2255  ZABEOTYP                 NaN     4                price driven\n",
       "2256  ZABEOTYP                 NaN     5         seeking orientation\n",
       "2257  ZABEOTYP                 NaN     6                 indifferent\n",
       "\n",
       "[1916 rows x 4 columns]"
      ]
     },
     "execution_count": 37,
     "metadata": {},
     "output_type": "execute_result"
    }
   ],
   "source": [
    "attributes[attributes['Attribute'].isin(missing_values.index'')]"
   ]
  },
  {
   "cell_type": "markdown",
   "metadata": {},
   "source": [
    "These features as shown above with missing values are essential to the prediction model, heance we will not be dropping these features. We will perform some transformations on the features in order to utilize thm bette."
   ]
  },
  {
   "cell_type": "raw",
   "metadata": {},
   "source": [
    "def feature_transform(df):\n",
    "    \n",
    "    '''\n",
    "    Performs special feature transformation on the initial dataframe\n",
    "    \n",
    "    Args: df:DataFrame()\n",
    "    Returns: df:DataFrame\n",
    "    \n",
    "    '''\n",
    "    \n",
    "    #clean special symbols from the features\n",
    "    df['CAMEO_DEUG_2015'] = df['CAMEO_DEUG_2015'].replace('X', None)\n",
    "    df['CAMEO_INTL_2015'] = df['CAMEO_INTL_2015'].replace('XX', None)\n",
    "    df['CAMEO_DEU_2015'] = df['CAMEO_DEU_2015'].replace('XX', None)\n",
    "    \n",
    "    df['CAMEO_DEUG_2015'] = df['CAMEO_DEUG_2015'].astype('float')\n",
    "    df['CAMEO_INTL_2015'] = df['CAMEO_INTL_2015'].astype('float')\n",
    "    \n",
    "    OST_WEST_KZ = {'W':0, 'O':1}\n",
    "    \n",
    "    df['OST_WEST_KZ_E'] = df.loc[:, 'OST_WEST_KZ'].map(OST_WEST_KZ)\n",
    "    #extract year from datetime\n",
    "    df['EINGEFUEGT_AM']=pd.to_datetime(df['EINGEFUEGT_AM']).dt.year\n",
    "    \n",
    "    df = df.drop([ 'LNR','D19_LETZTER_KAUF_BRANCHE', 'OST_WEST_KZ', 'CAMEO_DEU_2015'  ], axis = 1)\n",
    "    \n",
    "\n",
    "    decades_dict = {1: 1, 2: 1, 3: 2, 4: 2, 5: 3, 6: 3, 7: 3,\n",
    "           8: 4, 9: 4, 10: 5, 11: 5, 12: 5, 13: 5, 14: 6,\n",
    "           15: 6, 0: np.nan}\n",
    "    df['PRAEGENDE_JUGENDJAHRE_DECADE'] = df['PRAEGENDE_JUGENDJAHRE'].map(decades_dict)\n",
    "    print('Creating PRAEGENDE_JUGENDJAHRE_DECADE feature')\n",
    "    \n",
    "    \n",
    "    movement_dict = {1: 0, 2: 1, 3: 0, 4: 1, 5: 0, 6: 1, 7: 1, 8: 0,\n",
    "           9: 1, 10: 0, 11: 1, 12: 0, 13: 1, 14: 0, 15: 1, 0: np.nan}\n",
    "    df['PRAEGENDE_JUGENDJAHRE_MOVEMENT'] = df['PRAEGENDE_JUGENDJAHRE'].map(movement_dict)\n",
    "    \n",
    "    print('Creating PRAEGENDE_JUGENDJAHRE_MOVEMENT feature')\n",
    "    \n",
    "    df.drop(['PRAEGENDE_JUGENDJAHRE'], axis = 1, inplace = True)\n",
    "   \n",
    "\n",
    "    return df\n"
   ]
  },
  {
   "cell_type": "code",
   "execution_count": null,
   "metadata": {},
   "outputs": [
    {
     "name": "stdout",
     "output_type": "stream",
     "text": [
      "Creating PRAEGENDE_JUGENDJAHRE_DECADE feature\n",
      "Creating PRAEGENDE_JUGENDJAHRE_MOVEMENT feature\n"
     ]
    }
   ],
   "source": [
    "#transforming some of the features and removing incorrect values\n",
    "azdias = feature_transform(azdias)\n",
    "customers = feature_transform(customers)"
   ]
  },
  {
   "cell_type": "code",
   "execution_count": 40,
   "metadata": {},
   "outputs": [
    {
     "name": "stdout",
     "output_type": "stream",
     "text": [
      "azdias: (891221, 364)\n",
      "customers: (191652, 364)\n"
     ]
    }
   ],
   "source": [
    "print('azdias:',azdias.shape)\n",
    "print('customers:',customers.shape)"
   ]
  },
  {
   "cell_type": "code",
   "execution_count": 41,
   "metadata": {},
   "outputs": [
    {
     "name": "stdout",
     "output_type": "stream",
     "text": [
      "108164\n"
     ]
    },
    {
     "data": {
      "text/plain": [
       "108164"
      ]
     },
     "execution_count": 41,
     "metadata": {},
     "output_type": "execute_result"
    }
   ],
   "source": [
    "print(azdias['PRAEGENDE_JUGENDJAHRE_DECADE'].isna().sum())\n",
    "azdias['PRAEGENDE_JUGENDJAHRE_MOVEMENT'].isna().sum()"
   ]
  },
  {
   "cell_type": "code",
   "execution_count": 42,
   "metadata": {},
   "outputs": [
    {
     "data": {
      "text/plain": [
       "18348"
      ]
     },
     "execution_count": 42,
     "metadata": {},
     "output_type": "execute_result"
    }
   ],
   "source": [
    "azdias['HH_EINKOMMEN_SCORE'].isna().sum()"
   ]
  },
  {
   "cell_type": "code",
   "execution_count": 43,
   "metadata": {},
   "outputs": [],
   "source": [
    "azdias['HH_EINKOMMEN_SCORE'].value_counts()\n",
    "azdias['HH_EINKOMMEN_SCORE'].fillna(value=-1,inplace=True)"
   ]
  },
  {
   "cell_type": "code",
   "execution_count": 44,
   "metadata": {},
   "outputs": [
    {
     "data": {
      "text/plain": [
       "2968"
      ]
     },
     "execution_count": 44,
     "metadata": {},
     "output_type": "execute_result"
    }
   ],
   "source": [
    "customers['HH_EINKOMMEN_SCORE'].isna().sum()"
   ]
  },
  {
   "cell_type": "code",
   "execution_count": 45,
   "metadata": {},
   "outputs": [],
   "source": [
    "customers['HH_EINKOMMEN_SCORE'].value_counts()\n",
    "customers['HH_EINKOMMEN_SCORE'].fillna(value=-1,inplace=True)"
   ]
  },
  {
   "cell_type": "code",
   "execution_count": 46,
   "metadata": {},
   "outputs": [],
   "source": [
    "azdias['GFK_URLAUBERTYP'].isna().sum()\n",
    "azdias['GFK_URLAUBERTYP'].value_counts()\n",
    "azdias['GFK_URLAUBERTYP'].fillna(value=-1,inplace=True)"
   ]
  },
  {
   "cell_type": "code",
   "execution_count": 47,
   "metadata": {},
   "outputs": [],
   "source": [
    "customers['GFK_URLAUBERTYP'].isna().sum()\n",
    "customers['GFK_URLAUBERTYP'].value_counts()\n",
    "customers['GFK_URLAUBERTYP'].fillna(value=-1,inplace=True)"
   ]
  },
  {
   "cell_type": "code",
   "execution_count": 48,
   "metadata": {},
   "outputs": [],
   "source": [
    "azdias['PRAEGENDE_JUGENDJAHRE_DECADE'].value_counts()\n",
    "azdias['PRAEGENDE_JUGENDJAHRE_DECADE'].fillna(value=-1,inplace=True)"
   ]
  },
  {
   "cell_type": "code",
   "execution_count": 49,
   "metadata": {},
   "outputs": [],
   "source": [
    "azdias['PRAEGENDE_JUGENDJAHRE_MOVEMENT'].value_counts()\n",
    "azdias['PRAEGENDE_JUGENDJAHRE_MOVEMENT'].fillna(value=-1,inplace=True)"
   ]
  },
  {
   "cell_type": "code",
   "execution_count": 50,
   "metadata": {},
   "outputs": [],
   "source": [
    "customers['PRAEGENDE_JUGENDJAHRE_DECADE'].value_counts()\n",
    "customers['PRAEGENDE_JUGENDJAHRE_DECADE'].fillna(value=-1,inplace=True)"
   ]
  },
  {
   "cell_type": "code",
   "execution_count": 51,
   "metadata": {},
   "outputs": [],
   "source": [
    "customers['PRAEGENDE_JUGENDJAHRE_MOVEMENT'].value_counts()\n",
    "customers['PRAEGENDE_JUGENDJAHRE_MOVEMENT'].fillna(value=-1,inplace=True)"
   ]
  },
  {
   "cell_type": "code",
   "execution_count": 52,
   "metadata": {},
   "outputs": [
    {
     "name": "stderr",
     "output_type": "stream",
     "text": [
      "C:\\Users\\Gill\\AppData\\Local\\Packages\\PythonSoftwareFoundation.Python.3.9_qbz5n2kfra8p0\\LocalCache\\local-packages\\Python39\\site-packages\\seaborn\\distributions.py:2619: FutureWarning: `distplot` is a deprecated function and will be removed in a future version. Please adapt your code to use either `displot` (a figure-level function with similar flexibility) or `histplot` (an axes-level function for histograms).\n",
      "  warnings.warn(msg, FutureWarning)\n",
      "C:\\Users\\Gill\\AppData\\Local\\Packages\\PythonSoftwareFoundation.Python.3.9_qbz5n2kfra8p0\\LocalCache\\local-packages\\Python39\\site-packages\\seaborn\\distributions.py:2619: FutureWarning: `distplot` is a deprecated function and will be removed in a future version. Please adapt your code to use either `displot` (a figure-level function with similar flexibility) or `histplot` (an axes-level function for histograms).\n",
      "  warnings.warn(msg, FutureWarning)\n"
     ]
    },
    {
     "data": {
      "text/plain": [
       "<matplotlib.legend.Legend at 0x181d5e38dc0>"
      ]
     },
     "execution_count": 52,
     "metadata": {},
     "output_type": "execute_result"
    },
    {
     "data": {
      "image/png": "[encoded data removed]",
      "text/plain": [
       "<Figure size 720x432 with 1 Axes>"
      ]
     },
     "metadata": {
      "needs_background": "light"
     },
     "output_type": "display_data"
    }
   ],
   "source": [
    "#Distribution of DECADE feature\n",
    "fig = plt.figure(figsize = (10,6))\n",
    "sns.distplot(azdias['PRAEGENDE_JUGENDJAHRE_DECADE'], norm_hist = True, label='Azdias')\n",
    "sns.distplot(customers['PRAEGENDE_JUGENDJAHRE_DECADE'], norm_hist = True, label='Customers')\n",
    "plt.grid()\n",
    "plt.legend()"
   ]
  },
  {
   "cell_type": "code",
   "execution_count": 53,
   "metadata": {},
   "outputs": [
    {
     "name": "stderr",
     "output_type": "stream",
     "text": [
      "C:\\Users\\Gill\\AppData\\Local\\Packages\\PythonSoftwareFoundation.Python.3.9_qbz5n2kfra8p0\\LocalCache\\local-packages\\Python39\\site-packages\\seaborn\\distributions.py:2619: FutureWarning: `distplot` is a deprecated function and will be removed in a future version. Please adapt your code to use either `displot` (a figure-level function with similar flexibility) or `histplot` (an axes-level function for histograms).\n",
      "  warnings.warn(msg, FutureWarning)\n",
      "C:\\Users\\Gill\\AppData\\Local\\Packages\\PythonSoftwareFoundation.Python.3.9_qbz5n2kfra8p0\\LocalCache\\local-packages\\Python39\\site-packages\\seaborn\\distributions.py:2619: FutureWarning: `distplot` is a deprecated function and will be removed in a future version. Please adapt your code to use either `displot` (a figure-level function with similar flexibility) or `histplot` (an axes-level function for histograms).\n",
      "  warnings.warn(msg, FutureWarning)\n"
     ]
    },
    {
     "data": {
      "text/plain": [
       "<matplotlib.legend.Legend at 0x18215cb3550>"
      ]
     },
     "execution_count": 53,
     "metadata": {},
     "output_type": "execute_result"
    },
    {
     "data": {
      "image/png": "[encoded data removed]",
      "text/plain": [
       "<Figure size 720x432 with 1 Axes>"
      ]
     },
     "metadata": {
      "needs_background": "light"
     },
     "output_type": "display_data"
    }
   ],
   "source": [
    "#Distribution of INCOME feature\n",
    "fig = plt.figure(figsize = (10,6))\n",
    "sns.distplot(azdias['HH_EINKOMMEN_SCORE'], norm_hist = True, label='Azdias')\n",
    "sns.distplot(customers['HH_EINKOMMEN_SCORE'], norm_hist = True, label='Customers')\n",
    "plt.grid()\n",
    "plt.legend()"
   ]
  },
  {
   "cell_type": "code",
   "execution_count": 54,
   "metadata": {},
   "outputs": [
    {
     "name": "stderr",
     "output_type": "stream",
     "text": [
      "C:\\Users\\Gill\\AppData\\Local\\Packages\\PythonSoftwareFoundation.Python.3.9_qbz5n2kfra8p0\\LocalCache\\local-packages\\Python39\\site-packages\\seaborn\\distributions.py:2619: FutureWarning: `distplot` is a deprecated function and will be removed in a future version. Please adapt your code to use either `displot` (a figure-level function with similar flexibility) or `histplot` (an axes-level function for histograms).\n",
      "  warnings.warn(msg, FutureWarning)\n",
      "C:\\Users\\Gill\\AppData\\Local\\Packages\\PythonSoftwareFoundation.Python.3.9_qbz5n2kfra8p0\\LocalCache\\local-packages\\Python39\\site-packages\\seaborn\\distributions.py:2619: FutureWarning: `distplot` is a deprecated function and will be removed in a future version. Please adapt your code to use either `displot` (a figure-level function with similar flexibility) or `histplot` (an axes-level function for histograms).\n",
      "  warnings.warn(msg, FutureWarning)\n"
     ]
    },
    {
     "data": {
      "text/plain": [
       "<matplotlib.legend.Legend at 0x18205d5e4f0>"
      ]
     },
     "execution_count": 54,
     "metadata": {},
     "output_type": "execute_result"
    },
    {
     "data": {
      "image/png": "[encoded data removed]",
      "text/plain": [
       "<Figure size 720x432 with 1 Axes>"
      ]
     },
     "metadata": {
      "needs_background": "light"
     },
     "output_type": "display_data"
    }
   ],
   "source": [
    "#Distribution of VACATION HABITS feature\n",
    "fig = plt.figure(figsize = (10,6))\n",
    "sns.distplot(azdias['GFK_URLAUBERTYP'], norm_hist = True, label='Azdias')\n",
    "sns.distplot(customers['GFK_URLAUBERTYP'], norm_hist = True, label='Customers')\n",
    "plt.grid()\n",
    "plt.legend()"
   ]
  },
  {
   "cell_type": "markdown",
   "metadata": {},
   "source": [
    "## Part 1: Customer Segmentation Report\n",
    "\n",
    "The main bulk of your analysis will come in this part of the project. Here, you should use unsupervised learning techniques to describe the relationship between the demographics of the company's existing customers and the general population of Germany. By the end of this part, you should be able to describe parts of the general population that are more likely to be part of the mail-order company's main customer base, and which parts of the general population are less so."
   ]
  },
  {
   "cell_type": "code",
   "execution_count": 55,
   "metadata": {},
   "outputs": [],
   "source": [
    "#unsupervised data preprocessing\n",
    "pipeline_unsup = Pipeline([  ('impute', SimpleImputer(strategy= 'constant',fill_value = -1)),\n",
    "                             ('scale', StandardScaler()), \n",
    "                             ('pca' , PCA(n_components=90)),\n",
    "                        ])\n",
    "\n",
    "#fit and transform the sets\n",
    "azdias_pca = pipeline_unsup.fit_transform(azdias)\n",
    "customers_pca =  pipeline_unsup.transform(customers)"
   ]
  },
  {
   "cell_type": "code",
   "execution_count": 56,
   "metadata": {},
   "outputs": [
    {
     "data": {
      "text/plain": [
       "Pipeline(steps=[('impute', SimpleImputer(fill_value=-1, strategy='constant')),\n",
       "                ('scale', StandardScaler()), ('pca', PCA(n_components=90))])"
      ]
     },
     "execution_count": 56,
     "metadata": {},
     "output_type": "execute_result"
    }
   ],
   "source": [
    "pipeline_unsup"
   ]
  },
  {
   "cell_type": "code",
   "execution_count": 57,
   "metadata": {},
   "outputs": [
    {
     "data": {
      "image/png": "[encoded data removed]",
      "text/plain": [
       "<Figure size 1008x576 with 1 Axes>"
      ]
     },
     "metadata": {
      "needs_background": "light"
     },
     "output_type": "display_data"
    },
    {
     "data": {
      "text/plain": [
       "0.8364361120502118"
      ]
     },
     "execution_count": 57,
     "metadata": {},
     "output_type": "execute_result"
    }
   ],
   "source": [
    "#calculate PCA features to use in the clustering model\n",
    "fig = plt.figure(figsize = (14,8))\n",
    "plt.bar(list(range(0, len(pipeline_unsup[2].explained_variance_ratio_))), pipeline_unsup[2].explained_variance_ratio_)\n",
    "plt.xlabel('PCA components')\n",
    "plt.ylabel('Variance Ratio')\n",
    "plt.xlim(-1, 100)\n",
    "plt.show()\n",
    "\n",
    "pipeline_unsup[2].explained_variance_ratio_[:130].sum()"
   ]
  },
  {
   "cell_type": "code",
   "execution_count": 58,
   "metadata": {
    "scrolled": true
   },
   "outputs": [
    {
     "name": "stdout",
     "output_type": "stream",
     "text": [
      "167572767.3498274\n",
      "153243302.757451\n",
      "141999578.2396013\n",
      "135548089.67400458\n",
      "130947527.40947999\n",
      "129349683.67816049\n",
      "124749735.9103537\n",
      "122690305.25989908\n",
      "121190137.44920656\n",
      "119761242.40827122\n",
      "118517865.45266128\n",
      "116749801.9153631\n",
      "115738354.27222225\n"
     ]
    }
   ],
   "source": [
    "#calculate number of clusters for the KMeans++ model:\n",
    "score = []\n",
    "\n",
    "for i in range(2,15):\n",
    "    clt = KMeans(n_clusters = i)\n",
    "    global_cluster = clt.fit(azdias_pca[:, :130])\n",
    "    score.append(global_cluster.inertia_)\n",
    "    print(score[i-2])"
   ]
  },
  {
   "cell_type": "code",
   "execution_count": 59,
   "metadata": {},
   "outputs": [
    {
     "data": {
      "image/png": "[encoded data removed]",
      "text/plain": [
       "<Figure size 864x576 with 1 Axes>"
      ]
     },
     "metadata": {
      "needs_background": "light"
     },
     "output_type": "display_data"
    }
   ],
   "source": [
    "#plow elbow curve\n",
    "fig = plt.figure(figsize = (12,8))\n",
    "sns.lineplot(x = list(range(2,15)), y = score,ci=100)\n",
    "plt.xlabel('Cluster Number')\n",
    "plt.grid()\n",
    "plt.show()"
   ]
  },
  {
   "cell_type": "code",
   "execution_count": 60,
   "metadata": {},
   "outputs": [],
   "source": [
    "#init and fit the Kmeans++ with the desirable number of clusters (10)\n",
    "clt = KMeans(n_clusters = 8)\n",
    "\n",
    "azdiaz_cluster = clt.fit(azdias_pca[:, :130])"
   ]
  },
  {
   "cell_type": "code",
   "execution_count": 61,
   "metadata": {},
   "outputs": [],
   "source": [
    "#predict cluster labels for arvato customerz\n",
    "customers_cluster = clt.predict(customers_pca[:, :130])"
   ]
  },
  {
   "cell_type": "code",
   "execution_count": 64,
   "metadata": {},
   "outputs": [
    {
     "name": "stderr",
     "output_type": "stream",
     "text": [
      "C:\\Users\\Gill\\AppData\\Local\\Packages\\PythonSoftwareFoundation.Python.3.9_qbz5n2kfra8p0\\LocalCache\\local-packages\\Python39\\site-packages\\seaborn\\distributions.py:2619: FutureWarning: `distplot` is a deprecated function and will be removed in a future version. Please adapt your code to use either `displot` (a figure-level function with similar flexibility) or `histplot` (an axes-level function for histograms).\n",
      "  warnings.warn(msg, FutureWarning)\n",
      "C:\\Users\\Gill\\AppData\\Local\\Packages\\PythonSoftwareFoundation.Python.3.9_qbz5n2kfra8p0\\LocalCache\\local-packages\\Python39\\site-packages\\seaborn\\distributions.py:2619: FutureWarning: `distplot` is a deprecated function and will be removed in a future version. Please adapt your code to use either `displot` (a figure-level function with similar flexibility) or `histplot` (an axes-level function for histograms).\n",
      "  warnings.warn(msg, FutureWarning)\n"
     ]
    },
    {
     "data": {
      "image/png": "[encoded data removed]",
      "text/plain": [
       "<Figure size 936x576 with 1 Axes>"
      ]
     },
     "metadata": {
      "needs_background": "light"
     },
     "output_type": "display_data"
    }
   ],
   "source": [
    "#plot the distribution between azdias and customers data inside the clusters\n",
    "fig = plt.figure(figsize = (13,8))\n",
    "sns.distplot(azdiaz_cluster.labels_, norm_hist = True, label='Azdias')\n",
    "sns.distplot(customers_cluster, norm_hist = True, label='Customers')\n",
    "plt.legend()\n",
    "plt.grid()\n",
    "plt.show()"
   ]
  },
  {
   "cell_type": "markdown",
   "metadata": {},
   "source": [
    "**Identifying important feature differences between clusters.**"
   ]
  },
  {
   "cell_type": "code",
   "execution_count": 63,
   "metadata": {},
   "outputs": [
    {
     "data": {
      "text/html": [
       "<div>\n",
       "<style scoped>\n",
       "    .dataframe tbody tr th:only-of-type {\n",
       "        vertical-align: middle;\n",
       "    }\n",
       "\n",
       "    .dataframe tbody tr th {\n",
       "        vertical-align: top;\n",
       "    }\n",
       "\n",
       "    .dataframe thead th {\n",
       "        text-align: right;\n",
       "    }\n",
       "</style>\n",
       "<table border=\"1\" class=\"dataframe\">\n",
       "  <thead>\n",
       "    <tr style=\"text-align: right;\">\n",
       "      <th></th>\n",
       "      <th>Cluster_4</th>\n",
       "      <th>Cluster_0</th>\n",
       "      <th>delta</th>\n",
       "    </tr>\n",
       "  </thead>\n",
       "  <tbody>\n",
       "    <tr>\n",
       "      <th>ALTERSKATEGORIE_FEIN</th>\n",
       "      <td>16.993410</td>\n",
       "      <td>9.006619</td>\n",
       "      <td>7.986792</td>\n",
       "    </tr>\n",
       "    <tr>\n",
       "      <th>ANZ_STATISTISCHE_HAUSHALTE</th>\n",
       "      <td>9.407398</td>\n",
       "      <td>16.806819</td>\n",
       "      <td>7.399421</td>\n",
       "    </tr>\n",
       "    <tr>\n",
       "      <th>ANZ_HAUSHALTE_AKTIV</th>\n",
       "      <td>10.515218</td>\n",
       "      <td>17.801738</td>\n",
       "      <td>7.286520</td>\n",
       "    </tr>\n",
       "    <tr>\n",
       "      <th>ALTER_HH</th>\n",
       "      <td>14.612011</td>\n",
       "      <td>8.519537</td>\n",
       "      <td>6.092475</td>\n",
       "    </tr>\n",
       "    <tr>\n",
       "      <th>CAMEO_INTL_2015</th>\n",
       "      <td>40.436152</td>\n",
       "      <td>44.527347</td>\n",
       "      <td>4.091195</td>\n",
       "    </tr>\n",
       "    <tr>\n",
       "      <th>CJT_KATALOGNUTZER</th>\n",
       "      <td>2.394989</td>\n",
       "      <td>4.518419</td>\n",
       "      <td>2.123431</td>\n",
       "    </tr>\n",
       "    <tr>\n",
       "      <th>AGER_TYP</th>\n",
       "      <td>-0.787647</td>\n",
       "      <td>1.052894</td>\n",
       "      <td>1.840540</td>\n",
       "    </tr>\n",
       "    <tr>\n",
       "      <th>AKT_DAT_KL</th>\n",
       "      <td>3.497579</td>\n",
       "      <td>2.105787</td>\n",
       "      <td>1.391791</td>\n",
       "    </tr>\n",
       "    <tr>\n",
       "      <th>ALTER_KIND1</th>\n",
       "      <td>11.151579</td>\n",
       "      <td>12.487952</td>\n",
       "      <td>1.336373</td>\n",
       "    </tr>\n",
       "    <tr>\n",
       "      <th>CJT_GESAMTTYP</th>\n",
       "      <td>4.085017</td>\n",
       "      <td>2.752099</td>\n",
       "      <td>1.332918</td>\n",
       "    </tr>\n",
       "    <tr>\n",
       "      <th>ALTER_KIND4</th>\n",
       "      <td>15.248503</td>\n",
       "      <td>16.000000</td>\n",
       "      <td>0.751497</td>\n",
       "    </tr>\n",
       "    <tr>\n",
       "      <th>CAMEO_DEUG_2015</th>\n",
       "      <td>6.437867</td>\n",
       "      <td>6.968914</td>\n",
       "      <td>0.531047</td>\n",
       "    </tr>\n",
       "    <tr>\n",
       "      <th>ANZ_PERSONEN</th>\n",
       "      <td>1.888796</td>\n",
       "      <td>1.428535</td>\n",
       "      <td>0.460261</td>\n",
       "    </tr>\n",
       "    <tr>\n",
       "      <th>ALTER_KIND3</th>\n",
       "      <td>14.550296</td>\n",
       "      <td>15.000000</td>\n",
       "      <td>0.449704</td>\n",
       "    </tr>\n",
       "    <tr>\n",
       "      <th>BALLRAUM</th>\n",
       "      <td>3.579123</td>\n",
       "      <td>3.231035</td>\n",
       "      <td>0.348088</td>\n",
       "    </tr>\n",
       "    <tr>\n",
       "      <th>ANZ_KINDER</th>\n",
       "      <td>0.330452</td>\n",
       "      <td>0.015142</td>\n",
       "      <td>0.315310</td>\n",
       "    </tr>\n",
       "    <tr>\n",
       "      <th>ALTER_KIND2</th>\n",
       "      <td>13.231167</td>\n",
       "      <td>13.500000</td>\n",
       "      <td>0.268833</td>\n",
       "    </tr>\n",
       "    <tr>\n",
       "      <th>ANZ_HH_TITEL</th>\n",
       "      <td>0.041845</td>\n",
       "      <td>0.236914</td>\n",
       "      <td>0.195070</td>\n",
       "    </tr>\n",
       "    <tr>\n",
       "      <th>ARBEIT</th>\n",
       "      <td>3.411714</td>\n",
       "      <td>3.451215</td>\n",
       "      <td>0.039502</td>\n",
       "    </tr>\n",
       "    <tr>\n",
       "      <th>ANZ_TITEL</th>\n",
       "      <td>0.001770</td>\n",
       "      <td>0.015345</td>\n",
       "      <td>0.013575</td>\n",
       "    </tr>\n",
       "  </tbody>\n",
       "</table>\n",
       "</div>"
      ],
      "text/plain": [
       "                            Cluster_4  Cluster_0     delta\n",
       "ALTERSKATEGORIE_FEIN        16.993410   9.006619  7.986792\n",
       "ANZ_STATISTISCHE_HAUSHALTE   9.407398  16.806819  7.399421\n",
       "ANZ_HAUSHALTE_AKTIV         10.515218  17.801738  7.286520\n",
       "ALTER_HH                    14.612011   8.519537  6.092475\n",
       "CAMEO_INTL_2015             40.436152  44.527347  4.091195\n",
       "CJT_KATALOGNUTZER            2.394989   4.518419  2.123431\n",
       "AGER_TYP                    -0.787647   1.052894  1.840540\n",
       "AKT_DAT_KL                   3.497579   2.105787  1.391791\n",
       "ALTER_KIND1                 11.151579  12.487952  1.336373\n",
       "CJT_GESAMTTYP                4.085017   2.752099  1.332918\n",
       "ALTER_KIND4                 15.248503  16.000000  0.751497\n",
       "CAMEO_DEUG_2015              6.437867   6.968914  0.531047\n",
       "ANZ_PERSONEN                 1.888796   1.428535  0.460261\n",
       "ALTER_KIND3                 14.550296  15.000000  0.449704\n",
       "BALLRAUM                     3.579123   3.231035  0.348088\n",
       "ANZ_KINDER                   0.330452   0.015142  0.315310\n",
       "ALTER_KIND2                 13.231167  13.500000  0.268833\n",
       "ANZ_HH_TITEL                 0.041845   0.236914  0.195070\n",
       "ARBEIT                       3.411714   3.451215  0.039502\n",
       "ANZ_TITEL                    0.001770   0.015345  0.013575"
      ]
     },
     "execution_count": 63,
     "metadata": {},
     "output_type": "execute_result"
    }
   ],
   "source": [
    "azdias_clst = azdias\n",
    "azdias_clst['Cluster'] = azdiaz_cluster.labels_\n",
    "\n",
    "customers_clst = customers\n",
    "customers_clst['Cluster'] = customers_cluster\n",
    "\n",
    "azdias_clst = azdias_clst[azdias_clst['Cluster'] == 4]\n",
    "customers_clst = customers_clst[customers_clst['Cluster'] == 0]\n",
    "\n",
    "#get mean difference between features\n",
    "diff = pd.DataFrame({'Cluster_4': azdias_clst.mean(), 'Cluster_0': customers_clst.mean()})\n",
    "diff['delta'] = abs(diff['Cluster_4'] - diff['Cluster_0'])\n",
    "diff.head(20).sort_values(['delta'], ascending = False)"
   ]
  },
  {
   "cell_type": "code",
   "execution_count": null,
   "metadata": {},
   "outputs": [],
   "source": []
  },
  {
   "cell_type": "markdown",
   "metadata": {},
   "source": [
    "## Part 2: Supervised Learning Model\n",
    "\n",
    "Now that you've found which parts of the population are more likely to be customers of the mail-order company, it's time to build a prediction model. Each of the rows in the \"MAILOUT\" data files represents an individual that was targeted for a mailout campaign. Ideally, we should be able to use the demographic information from each individual to decide whether or not it will be worth it to include that person in the campaign.\n",
    "\n",
    "The \"MAILOUT\" data has been split into two approximately equal parts, each with almost 43 000 data rows. In this part, you can verify your model with the \"TRAIN\" partition, which includes a column, \"RESPONSE\", that states whether or not a person became a customer of the company following the campaign. In the next part, you'll need to create predictions on the \"TEST\" partition, where the \"RESPONSE\" column has been withheld."
   ]
  },
  {
   "cell_type": "code",
   "execution_count": 67,
   "metadata": {},
   "outputs": [],
   "source": [
    "mailout_train = pd.read_csv('arvato_data/Udacity_MAILOUT_052018_TRAIN.csv',sep=';')\n",
    "mailout_test = pd.read_csv('arvato_data/Udacity_MAILOUT_052018_TEST.csv',sep=';')"
   ]
  },
  {
   "cell_type": "code",
   "execution_count": 66,
   "metadata": {},
   "outputs": [],
   "source": [
    "mailout_train = mailout_train[columns]\n",
    "mailout_test = mailout_test[columns]"
   ]
  },
  {
   "cell_type": "code",
   "execution_count": 68,
   "metadata": {},
   "outputs": [
    {
     "name": "stdout",
     "output_type": "stream",
     "text": [
      "mailout_train dimensions: (42962, 367)\n",
      "mailout_test dimensions: (42833, 366)\n"
     ]
    }
   ],
   "source": [
    "print('mailout_train dimensions:',mailout_train.shape)\n",
    "print('mailout_test dimensions:',mailout_test.shape)"
   ]
  },
  {
   "cell_type": "markdown",
   "metadata": {},
   "source": []
  },
  {
   "cell_type": "code",
   "execution_count": 72,
   "metadata": {},
   "outputs": [
    {
     "name": "stderr",
     "output_type": "stream",
     "text": [
      "C:\\Users\\Gill\\AppData\\Local\\Packages\\PythonSoftwareFoundation.Python.3.9_qbz5n2kfra8p0\\LocalCache\\local-packages\\Python39\\site-packages\\seaborn\\distributions.py:2619: FutureWarning: `distplot` is a deprecated function and will be removed in a future version. Please adapt your code to use either `displot` (a figure-level function with similar flexibility) or `histplot` (an axes-level function for histograms).\n",
      "  warnings.warn(msg, FutureWarning)\n",
      "C:\\Users\\Gill\\AppData\\Local\\Packages\\PythonSoftwareFoundation.Python.3.9_qbz5n2kfra8p0\\LocalCache\\local-packages\\Python39\\site-packages\\seaborn\\distributions.py:2619: FutureWarning: `distplot` is a deprecated function and will be removed in a future version. Please adapt your code to use either `displot` (a figure-level function with similar flexibility) or `histplot` (an axes-level function for histograms).\n",
      "  warnings.warn(msg, FutureWarning)\n"
     ]
    },
    {
     "data": {
      "image/png": "[encoded data removed]",
      "text/plain": [
       "<Figure size 864x432 with 1 Axes>"
      ]
     },
     "metadata": {
      "needs_background": "light"
     },
     "output_type": "display_data"
    }
   ],
   "source": [
    "#most of the features has less than 20% missing values similar to azdias and customers datasets\n",
    "plt.figure(figsize=(12,6))\n",
    "sns.distplot(mailout_train.isnull().sum()/len(mailout_train),label='mailout_train')\n",
    "sns.distplot(mailout_test.isnull().sum()/len(mailout_test),label='mailout_test')\n",
    "plt.legend()\n",
    "plt.grid()\n",
    "plt.show()"
   ]
  },
  {
   "cell_type": "code",
   "execution_count": 74,
   "metadata": {},
   "outputs": [
    {
     "name": "stdout",
     "output_type": "stream",
     "text": [
      "Creating PRAEGENDE_JUGENDJAHRE_DECADE feature\n",
      "Creating PRAEGENDE_JUGENDJAHRE_MOVEMENT feature\n",
      "Creating PRAEGENDE_JUGENDJAHRE_DECADE feature\n",
      "Creating PRAEGENDE_JUGENDJAHRE_MOVEMENT feature\n",
      "(42962, 364) (42833, 364)\n"
     ]
    }
   ],
   "source": [
    "attributes = pd.read_excel('DIAS Attributes - Values 2017.xlsx')\n",
    "\n",
    "#train data\n",
    "mailout_train = fill_unknowns(mailout_train, attributes)\n",
    "X = feature_transform(mailout_train)\n",
    "\n",
    "#test data\n",
    "mailout_test = fill_unknowns(mailout_test, attributes)\n",
    "X_sub = feature_transform(mailout_test)\n",
    "\n",
    "#----!\n",
    "\n",
    "y = X['RESPONSE']\n",
    "X.drop(['RESPONSE'], axis = 1, inplace = True)\n",
    "\n",
    "print(X.shape, X_sub.shape)"
   ]
  },
  {
   "cell_type": "code",
   "execution_count": 75,
   "metadata": {},
   "outputs": [
    {
     "name": "stdout",
     "output_type": "stream",
     "text": [
      "0    0.987617\n",
      "1    0.012383\n",
      "Name: RESPONSE, dtype: float64\n"
     ]
    },
    {
     "data": {
      "image/png": "[encoded data removed]",
      "text/plain": [
       "<Figure size 432x288 with 1 Axes>"
      ]
     },
     "metadata": {
      "needs_background": "light"
     },
     "output_type": "display_data"
    }
   ],
   "source": [
    "#plot the response variable\n",
    "sns.barplot(x = y.value_counts().index, y = y.value_counts())\n",
    "plt.xlabel('RESPONSE')\n",
    "plt.ylabel('Count')\n",
    "print(y.value_counts()/y.count())"
   ]
  },
  {
   "cell_type": "code",
   "execution_count": 76,
   "metadata": {},
   "outputs": [],
   "source": [
    "def plot_roc(model,X, y, model_name):\n",
    "    \n",
    "    '''\n",
    "    Plots ROC curve for the imputed model.\n",
    "    \n",
    "    Args: \n",
    "        model: sklearn.model - model to evaluate\n",
    "        X: DataFrame() - Train data \n",
    "        y: DataFrame() - Train data labels\n",
    "        model_name: string - Name of the model.\n",
    "    \n",
    "    Returns: \n",
    "      \n",
    "    '''\n",
    "\n",
    "    X_train, X_test, y_train, y_test= train_test_split(X, y, test_size = 0.2, random_state = 42, stratify = y )\n",
    "    model.fit(X_train, y_train)\n",
    "    # Compute ROC curve and ROC area for each class\n",
    "    fpr = dict()\n",
    "    tpr = dict()\n",
    "    roc_auc = dict()\n",
    "    y_score = model.predict_proba(X_test)[:, 1]\n",
    "    n_classes = 2\n",
    "    for i in range(n_classes):\n",
    "        fpr[i], tpr[i], _ = roc_curve(y_test, y_score)\n",
    "        roc_auc[i] = auc(fpr[i], tpr[i])\n",
    "\n",
    "\n",
    "    lw = 2\n",
    "    ax  = sns.lineplot(x = fpr[0],y = tpr[0], lw=lw, label=model_name + '(AUC = %0.2f)' % roc_auc[0])\n",
    "\n",
    "    ax = sns.lineplot(x = [0, 1], y = [0, 1], color='navy', lw=lw, linestyle='--')\n",
    "\n",
    "    ax.set(xlabel='False Positive Rate', ylabel='True Positive Rate')\n",
    "\n",
    "    plt.title('ROC Curve')"
   ]
  },
  {
   "cell_type": "code",
   "execution_count": 77,
   "metadata": {},
   "outputs": [
    {
     "data": {
      "image/png": "[encoded data removed]",
      "text/plain": [
       "<Figure size 720x720 with 1 Axes>"
      ]
     },
     "metadata": {
      "needs_background": "light"
     },
     "output_type": "display_data"
    }
   ],
   "source": [
    "#create list of models with default hyerparameters using models with capability for probabilistic prediction\n",
    "model_list = {'LR':LogisticRegression(max_iter=500), 'RF' : RandomForestClassifier(),'LGBM':  LGBMClassifier()}\n",
    "\n",
    "#loop through the models and evaluate basic performance\n",
    "fig = plt.figure(figsize = (10,10))\n",
    "for keys in model_list:\n",
    "    #plot series\n",
    "    pipeline = Pipeline([('impute', SimpleImputer(strategy= 'constant', fill_value = -1)),('scale', StandardScaler()),  ('clf', model_list[keys])])\n",
    "    plot_roc(pipeline,X, y, keys)\n",
    "\n",
    "plt.show()"
   ]
  },
  {
   "cell_type": "markdown",
   "metadata": {},
   "source": [
    "**We can see LGBMClassifier gives the highest results.**"
   ]
  },
  {
   "cell_type": "markdown",
   "metadata": {},
   "source": [
    "**Refining the model**"
   ]
  },
  {
   "cell_type": "markdown",
   "metadata": {},
   "source": [
    "Lets implement XGBoost on Bayesian Optimization. Bayesian optimization builds a model for the optimization function and explores the parameter space systematically, which is a smart and much faster way to find your parameters.\n",
    "\n",
    "Articles that could help understanding the implementation :\n",
    "\n",
    "https://www.kaggle.com/nanomathias/bayesian-optimization-of-xgboost-lb-0-9769\n",
    "\n",
    "https://aiinpractice.com/xgboost-hyperparameter-tuning-with-bayesian-optimization/"
   ]
  },
  {
   "cell_type": "code",
   "execution_count": 94,
   "metadata": {},
   "outputs": [],
   "source": [
    "pipeline = Pipeline([('impute', SimpleImputer(strategy= 'constant', fill_value = -1)), \n",
    "                     ('clf', XGBClassifier(\n",
    "                        n_jobs = -1,\n",
    "                        objective = 'binary:logistic',\n",
    "                        eval_metric = 'auc',\n",
    "                        silent=1,))\n",
    "                    ])"
   ]
  },
  {
   "cell_type": "markdown",
   "metadata": {},
   "source": [
    "Here we are using 10 fold Stratified K Fold with Iterations of 10.Be warned this is a time consuming task.We could reduce the folds for making it a little time efficient."
   ]
  },
  {
   "cell_type": "code",
   "execution_count": null,
   "metadata": {},
   "outputs": [],
   "source": [
    "ITERATIONS = 10\n",
    "bayes_cv_tuner_xg = BayesSearchCV(\n",
    "    estimator = XGBClassifier(\n",
    "        n_jobs = -1,\n",
    "        objective = 'binary:logistic',\n",
    "        eval_metric = 'auc',\n",
    "        silent=1,\n",
    "    ),\n",
    "    search_spaces = {\n",
    "        'learning_rate': (0.001, 1.0, 'log-uniform'),\n",
    "        'max_depth': (1, 10),\n",
    "        'min_child_weight': (1, 10),\n",
    "        'gamma': (0.0, 1.0, 'uniform'),\n",
    "        'subsample': (0.5, 1.0, 'uniform'),\n",
    "        'colsample_bytree': (0.5, 1.0, 'uniform'),\n",
    "        'reg_alpha': (1e-9, 1.0, 'log-uniform'),\n",
    "        'n_estimators': (50, 500),\n",
    "        'scale_pos_weight': (1,90)\n",
    "        \n",
    "    },    \n",
    "    scoring = 'roc_auc',\n",
    "    cv = StratifiedKFold(\n",
    "        n_splits=10,\n",
    "        shuffle=True,\n",
    "        random_state= SEED\n",
    "    ),\n",
    "    n_jobs = -1,\n",
    "    n_iter = ITERATIONS,   \n",
    "    verbose = 0,\n",
    "    refit = True,\n",
    "    random_state = np.random.RandomState(50)\n",
    ")\n",
    "\n",
    "result_xg = bayes_cv_tuner_xg.fit(X, y)\n"
   ]
  },
  {
   "cell_type": "code",
   "execution_count": 99,
   "metadata": {},
   "outputs": [
    {
     "data": {
      "text/plain": [
       "OrderedDict([('colsample_bytree', 0.6888348010130712),\n",
       "             ('gamma', 0.43702345115978325),\n",
       "             ('learning_rate', 0.003141497864060941),\n",
       "             ('max_depth', 2),\n",
       "             ('min_child_weight', 5),\n",
       "             ('n_estimators', 376),\n",
       "             ('reg_alpha', 0.9682055105813826),\n",
       "             ('scale_pos_weight', 86),\n",
       "             ('subsample', 0.9162583886152913)])"
      ]
     },
     "execution_count": 99,
     "metadata": {},
     "output_type": "execute_result"
    }
   ],
   "source": [
    "#Best Parameters\n",
    "result_xg.best_params_"
   ]
  },
  {
   "cell_type": "code",
   "execution_count": 100,
   "metadata": {},
   "outputs": [
    {
     "data": {
      "text/plain": [
       "{'mean_fit_time': array([ 926.98050127,  846.28439188, 1284.42248764,   87.1909564 ,\n",
       "         449.58265331,  529.01940777,  622.4464149 ,  498.94771688,\n",
       "          84.94448791, 1106.70949795]),\n",
       " 'std_fit_time': array([187.65552629, 180.8481634 , 248.09576593,  11.45773829,\n",
       "         65.24063853, 107.06720713, 110.74757709, 128.87708632,\n",
       "         18.7781442 , 258.03013049]),\n",
       " 'mean_score_time': array([0.37468953, 0.31716821, 2.47782984, 0.48392491, 2.98828955,\n",
       "        1.01747508, 0.46610532, 1.75604751, 0.2475435 , 1.12770894]),\n",
       " 'std_score_time': array([0.11740588, 0.08454009, 1.79824056, 0.3086988 , 2.47959229,\n",
       "        0.82513828, 0.11958847, 1.20806794, 0.07891521, 0.82412131]),\n",
       " 'param_colsample_bytree': masked_array(data=[0.9304947779168935, 0.8735892250207212,\n",
       "                    0.703824597278157, 0.5037803556533347,\n",
       "                    0.6888348010130712, 0.8160608675005934,\n",
       "                    0.636975379697787, 0.7648022037422433,\n",
       "                    0.8735582124231778, 0.7798960051924361],\n",
       "              mask=[False, False, False, False, False, False, False, False,\n",
       "                    False, False],\n",
       "        fill_value='?',\n",
       "             dtype=object),\n",
       " 'param_gamma': masked_array(data=[0.451216162792089, 0.9836336562472394,\n",
       "                    0.06272627491153561, 0.8946886330215069,\n",
       "                    0.43702345115978325, 0.3733811693286791,\n",
       "                    0.7792709409751217, 0.44076667329472075,\n",
       "                    0.5520827853417428, 0.7234573267040175],\n",
       "              mask=[False, False, False, False, False, False, False, False,\n",
       "                    False, False],\n",
       "        fill_value='?',\n",
       "             dtype=object),\n",
       " 'param_learning_rate': masked_array(data=[0.031732629709526804, 0.46068993332065805,\n",
       "                    0.027216840155825553, 0.004245163222501687,\n",
       "                    0.003141497864060941, 0.23882435406684974,\n",
       "                    0.011063786889633923, 0.4060037286257198,\n",
       "                    0.23024228934445243, 0.0033767577069893505],\n",
       "              mask=[False, False, False, False, False, False, False, False,\n",
       "                    False, False],\n",
       "        fill_value='?',\n",
       "             dtype=object),\n",
       " 'param_max_depth': masked_array(data=[9, 6, 8, 1, 2, 7, 4, 4, 1, 9],\n",
       "              mask=[False, False, False, False, False, False, False, False,\n",
       "                    False, False],\n",
       "        fill_value='?',\n",
       "             dtype=object),\n",
       " 'param_min_child_weight': masked_array(data=[1, 3, 8, 5, 5, 4, 4, 10, 9, 8],\n",
       "              mask=[False, False, False, False, False, False, False, False,\n",
       "                    False, False],\n",
       "        fill_value='?',\n",
       "             dtype=object),\n",
       " 'param_n_estimators': masked_array(data=[241, 308, 360, 138, 376, 149, 385, 259, 134, 289],\n",
       "              mask=[False, False, False, False, False, False, False, False,\n",
       "                    False, False],\n",
       "        fill_value='?',\n",
       "             dtype=object),\n",
       " 'param_reg_alpha': masked_array(data=[0.014156357168414447, 0.02691129053903236,\n",
       "                    0.029568819835388976, 0.9668777144422012,\n",
       "                    0.9682055105813826, 0.00011872250353667093,\n",
       "                    3.6392473718682626e-09, 0.0529286261562473,\n",
       "                    5.837818518871079e-09, 0.29629458589844115],\n",
       "              mask=[False, False, False, False, False, False, False, False,\n",
       "                    False, False],\n",
       "        fill_value='?',\n",
       "             dtype=object),\n",
       " 'param_scale_pos_weight': masked_array(data=[35, 77, 33, 5, 86, 42, 66, 87, 54, 62],\n",
       "              mask=[False, False, False, False, False, False, False, False,\n",
       "                    False, False],\n",
       "        fill_value='?',\n",
       "             dtype=object),\n",
       " 'param_subsample': masked_array(data=[0.5036995347750647, 0.8320252978894036,\n",
       "                    0.598608507090683, 0.5497122446526171,\n",
       "                    0.9162583886152913, 0.8300688940505185,\n",
       "                    0.7692624308698621, 0.9275466530262446,\n",
       "                    0.7642439185183508, 0.9832118807914554],\n",
       "              mask=[False, False, False, False, False, False, False, False,\n",
       "                    False, False],\n",
       "        fill_value='?',\n",
       "             dtype=object),\n",
       " 'params': [OrderedDict([('colsample_bytree', 0.9304947779168935),\n",
       "               ('gamma', 0.451216162792089),\n",
       "               ('learning_rate', 0.031732629709526804),\n",
       "               ('max_depth', 9),\n",
       "               ('min_child_weight', 1),\n",
       "               ('n_estimators', 241),\n",
       "               ('reg_alpha', 0.014156357168414447),\n",
       "               ('scale_pos_weight', 35),\n",
       "               ('subsample', 0.5036995347750647)]),\n",
       "  OrderedDict([('colsample_bytree', 0.8735892250207212),\n",
       "               ('gamma', 0.9836336562472394),\n",
       "               ('learning_rate', 0.46068993332065805),\n",
       "               ('max_depth', 6),\n",
       "               ('min_child_weight', 3),\n",
       "               ('n_estimators', 308),\n",
       "               ('reg_alpha', 0.02691129053903236),\n",
       "               ('scale_pos_weight', 77),\n",
       "               ('subsample', 0.8320252978894036)]),\n",
       "  OrderedDict([('colsample_bytree', 0.703824597278157),\n",
       "               ('gamma', 0.06272627491153561),\n",
       "               ('learning_rate', 0.027216840155825553),\n",
       "               ('max_depth', 8),\n",
       "               ('min_child_weight', 8),\n",
       "               ('n_estimators', 360),\n",
       "               ('reg_alpha', 0.029568819835388976),\n",
       "               ('scale_pos_weight', 33),\n",
       "               ('subsample', 0.598608507090683)]),\n",
       "  OrderedDict([('colsample_bytree', 0.5037803556533347),\n",
       "               ('gamma', 0.8946886330215069),\n",
       "               ('learning_rate', 0.004245163222501687),\n",
       "               ('max_depth', 1),\n",
       "               ('min_child_weight', 5),\n",
       "               ('n_estimators', 138),\n",
       "               ('reg_alpha', 0.9668777144422012),\n",
       "               ('scale_pos_weight', 5),\n",
       "               ('subsample', 0.5497122446526171)]),\n",
       "  OrderedDict([('colsample_bytree', 0.6888348010130712),\n",
       "               ('gamma', 0.43702345115978325),\n",
       "               ('learning_rate', 0.003141497864060941),\n",
       "               ('max_depth', 2),\n",
       "               ('min_child_weight', 5),\n",
       "               ('n_estimators', 376),\n",
       "               ('reg_alpha', 0.9682055105813826),\n",
       "               ('scale_pos_weight', 86),\n",
       "               ('subsample', 0.9162583886152913)]),\n",
       "  OrderedDict([('colsample_bytree', 0.8160608675005934),\n",
       "               ('gamma', 0.3733811693286791),\n",
       "               ('learning_rate', 0.23882435406684974),\n",
       "               ('max_depth', 7),\n",
       "               ('min_child_weight', 4),\n",
       "               ('n_estimators', 149),\n",
       "               ('reg_alpha', 0.00011872250353667093),\n",
       "               ('scale_pos_weight', 42),\n",
       "               ('subsample', 0.8300688940505185)]),\n",
       "  OrderedDict([('colsample_bytree', 0.636975379697787),\n",
       "               ('gamma', 0.7792709409751217),\n",
       "               ('learning_rate', 0.011063786889633923),\n",
       "               ('max_depth', 4),\n",
       "               ('min_child_weight', 4),\n",
       "               ('n_estimators', 385),\n",
       "               ('reg_alpha', 3.6392473718682626e-09),\n",
       "               ('scale_pos_weight', 66),\n",
       "               ('subsample', 0.7692624308698621)]),\n",
       "  OrderedDict([('colsample_bytree', 0.7648022037422433),\n",
       "               ('gamma', 0.44076667329472075),\n",
       "               ('learning_rate', 0.4060037286257198),\n",
       "               ('max_depth', 4),\n",
       "               ('min_child_weight', 10),\n",
       "               ('n_estimators', 259),\n",
       "               ('reg_alpha', 0.0529286261562473),\n",
       "               ('scale_pos_weight', 87),\n",
       "               ('subsample', 0.9275466530262446)]),\n",
       "  OrderedDict([('colsample_bytree', 0.8735582124231778),\n",
       "               ('gamma', 0.5520827853417428),\n",
       "               ('learning_rate', 0.23024228934445243),\n",
       "               ('max_depth', 1),\n",
       "               ('min_child_weight', 9),\n",
       "               ('n_estimators', 134),\n",
       "               ('reg_alpha', 5.837818518871079e-09),\n",
       "               ('scale_pos_weight', 54),\n",
       "               ('subsample', 0.7642439185183508)]),\n",
       "  OrderedDict([('colsample_bytree', 0.7798960051924361),\n",
       "               ('gamma', 0.7234573267040175),\n",
       "               ('learning_rate', 0.0033767577069893505),\n",
       "               ('max_depth', 9),\n",
       "               ('min_child_weight', 8),\n",
       "               ('n_estimators', 289),\n",
       "               ('reg_alpha', 0.29629458589844115),\n",
       "               ('scale_pos_weight', 62),\n",
       "               ('subsample', 0.9832118807914554)])],\n",
       " 'split0_test_score': array([0.71326848, 0.66642007, 0.71865862, 0.64490315, 0.75263179,\n",
       "        0.66380138, 0.75430338, 0.64154686, 0.7603722 , 0.74065563]),\n",
       " 'split1_test_score': array([0.63886052, 0.57812868, 0.64683444, 0.70067693, 0.73784272,\n",
       "        0.58594548, 0.69941996, 0.57108004, 0.72285071, 0.68101492]),\n",
       " 'split2_test_score': array([0.74103851, 0.66740336, 0.72921882, 0.68566429, 0.76877788,\n",
       "        0.69482255, 0.76573624, 0.6684706 , 0.77340481, 0.73032164]),\n",
       " 'split3_test_score': array([0.74154323, 0.61133543, 0.73996905, 0.76982511, 0.81254141,\n",
       "        0.68996883, 0.81729953, 0.64941368, 0.83021758, 0.78581593]),\n",
       " 'split4_test_score': array([0.72508771, 0.65939461, 0.71096901, 0.66359464, 0.73332325,\n",
       "        0.67768889, 0.74904282, 0.71326358, 0.75299383, 0.73629819]),\n",
       " 'split5_test_score': array([0.66331227, 0.56554858, 0.67112536, 0.76478239, 0.76816421,\n",
       "        0.62830678, 0.73274294, 0.59474651, 0.73463062, 0.69506712]),\n",
       " 'split6_test_score': array([0.67975   , 0.6280244 , 0.69994753, 0.71544253, 0.75938394,\n",
       "        0.61256276, 0.73082413, 0.66975351, 0.75414112, 0.73987122]),\n",
       " 'split7_test_score': array([0.7239093 , 0.65144367, 0.7195603 , 0.72860071, 0.77087456,\n",
       "        0.66289871, 0.76951605, 0.66912428, 0.75575087, 0.73961108]),\n",
       " 'split8_test_score': array([0.69275255, 0.63179977, 0.684099  , 0.72961015, 0.75389209,\n",
       "        0.66004607, 0.74796446, 0.63069251, 0.76320377, 0.741939  ]),\n",
       " 'split9_test_score': array([0.68792328, 0.60566127, 0.69213888, 0.78395715, 0.76778401,\n",
       "        0.64026654, 0.76347502, 0.61065062, 0.75508162, 0.72356023]),\n",
       " 'mean_test_score': array([0.70074459, 0.62651598, 0.7012521 , 0.71870571, 0.76252159,\n",
       "        0.6516308 , 0.75303245, 0.64187422, 0.76026471, 0.7314155 ]),\n",
       " 'std_test_score': array([0.03236359, 0.0342351 , 0.02694739, 0.04372904, 0.0207705 ,\n",
       "        0.03297619, 0.02914582, 0.03964008, 0.02696152, 0.02691164]),\n",
       " 'rank_test_score': array([ 7, 10,  6,  5,  1,  8,  3,  9,  2,  4])}"
      ]
     },
     "execution_count": 100,
     "metadata": {},
     "output_type": "execute_result"
    }
   ],
   "source": [
    "#All the parameters and split test scores for the models.\n",
    "result_xg.cv_results_"
   ]
  },
  {
   "cell_type": "code",
   "execution_count": 101,
   "metadata": {},
   "outputs": [
    {
     "data": {
      "text/plain": [
       "0.7625"
      ]
     },
     "execution_count": 101,
     "metadata": {},
     "output_type": "execute_result"
    }
   ],
   "source": [
    "#Best ROC_AUC Score\n",
    "np.round(result_xg.best_score_, 4)"
   ]
  },
  {
   "cell_type": "markdown",
   "metadata": {},
   "source": [
    "Since  Bayesian Optimization on XGBoost Hyperparameters has given better results to LightGBM. Hence we would now engineer a model using its best parameters."
   ]
  },
  {
   "cell_type": "code",
   "execution_count": 88,
   "metadata": {},
   "outputs": [
    {
     "name": "stderr",
     "output_type": "stream",
     "text": [
      "C:\\Users\\Gill\\AppData\\Local\\Packages\\PythonSoftwareFoundation.Python.3.9_qbz5n2kfra8p0\\LocalCache\\local-packages\\Python39\\site-packages\\xgboost\\sklearn.py:1224: UserWarning: The use of label encoder in XGBClassifier is deprecated and will be removed in a future release. To remove this warning, do the following: 1) Pass option use_label_encoder=False when constructing XGBClassifier object; and 2) Encode your labels (y) as integers starting with 0, i.e. 0, 1, 2, ..., [num_class - 1].\n",
      "  warnings.warn(label_encoder_deprecation_msg, UserWarning)\n"
     ]
    },
    {
     "name": "stdout",
     "output_type": "stream",
     "text": [
      "[19:08:02] WARNING: C:/Users/Administrator/workspace/xgboost-win64_release_1.5.1/src/learner.cc:1115: Starting in XGBoost 1.3.0, the default evaluation metric used with the objective 'binary:logistic' was changed from 'error' to 'logloss'. Explicitly set eval_metric if you'd like to restore the old behavior.\n"
     ]
    },
    {
     "data": {
      "image/png": "[encoded data removed]",
      "text/plain": [
       "<Figure size 720x720 with 1 Axes>"
      ]
     },
     "metadata": {
      "needs_background": "light"
     },
     "output_type": "display_data"
    }
   ],
   "source": [
    "#optimized algorithm\n",
    "parameters= dict([('colsample_bytree', 0.6888348010130712), ('gamma', 0.43702345115978325), ('learning_rate', 0.0030871248366675184), ('max_depth', 3), ('min_child_weight', 5), ('n_estimators', 376), ('reg_alpha', 0.9682055105813826), ('scale_pos_weight', 86), ('subsample', 0.9162583886152913)])\n",
    "\n",
    "\n",
    "pipeline = Pipeline([('impute', SimpleImputer(strategy= 'constant', fill_value = -1)), \n",
    "                     ('clf', XGBClassifier(**parameters))\n",
    "                    ])\n",
    "\n",
    "fig\n",
    "fig1 = plt.figure(figsize = (10,10))\n",
    "plot_roc(pipeline,X, y, 'XGB')"
   ]
  },
  {
   "cell_type": "markdown",
   "metadata": {},
   "source": [
    "We have a final ROC_AUC score of 0.79 "
   ]
  },
  {
   "cell_type": "markdown",
   "metadata": {},
   "source": [
    "We could further improve the performance of this project by using only important features after analyzing them.\n",
    "Another way to do so is deleting observations with large missing values. Further we could test different algorithms and hyperparameter tuning techniques"
   ]
  },
  {
   "cell_type": "code",
   "execution_count": null,
   "metadata": {},
   "outputs": [],
   "source": []
  }
 ],
 "metadata": {
  "kernelspec": {
   "display_name": "Python 3 (ipykernel)",
   "language": "python",
   "name": "python3"
  },
  "language_info": {
   "codemirror_mode": {
    "name": "ipython",
    "version": 3
   },
   "file_extension": ".py",
   "mimetype": "text/x-python",
   "name": "python",
   "nbconvert_exporter": "python",
   "pygments_lexer": "ipython3",
   "version": "3.9.9"
  }
 },
 "nbformat": 4,
 "nbformat_minor": 2
}
